{
 "cells": [
  {
   "cell_type": "code",
   "execution_count": 3,
   "id": "413c22a6",
   "metadata": {},
   "outputs": [
    {
     "name": "stderr",
     "output_type": "stream",
     "text": [
      "..\n",
      "----------------------------------------------------------------------\n",
      "Ran 2 tests in 0.003s\n",
      "\n",
      "OK\n"
     ]
    }
   ],
   "source": [
    "from python_repos import r,repo_dicts\n",
    "import unittest\n",
    "\n",
    "class ResponseTestCase(unittest.TestCase):\n",
    "    def test_response_code(self):\n",
    "        self.assertEqual(r.status_code,200)\n",
    "        \n",
    "    def test_repo_number(self):\n",
    "        self.assertEqual(len(repo_dicts),30)\n",
    "                         \n",
    "    if __name__==\"__main__\":\n",
    "        unittest.main(argv=['first-arg-is-ignored'], exit=False)"
   ]
  },
  {
   "cell_type": "code",
   "execution_count": null,
   "id": "3e9aa9bd",
   "metadata": {},
   "outputs": [],
   "source": []
  },
  {
   "cell_type": "code",
   "execution_count": null,
   "id": "b307deb3",
   "metadata": {},
   "outputs": [],
   "source": []
  }
 ],
 "metadata": {
  "kernelspec": {
   "display_name": "Python 3 (ipykernel)",
   "language": "python",
   "name": "python3"
  },
  "language_info": {
   "codemirror_mode": {
    "name": "ipython",
    "version": 3
   },
   "file_extension": ".py",
   "mimetype": "text/x-python",
   "name": "python",
   "nbconvert_exporter": "python",
   "pygments_lexer": "ipython3",
   "version": "3.9.7"
  }
 },
 "nbformat": 4,
 "nbformat_minor": 5
}
